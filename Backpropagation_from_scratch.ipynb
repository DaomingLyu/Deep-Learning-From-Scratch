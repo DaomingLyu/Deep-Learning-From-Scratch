{
 "cells": [
  {
   "cell_type": "code",
   "execution_count": 2,
   "metadata": {
    "collapsed": true
   },
   "outputs": [],
   "source": [
    "import numpy as np"
   ]
  },
  {
   "cell_type": "code",
   "execution_count": 3,
   "metadata": {
    "collapsed": true
   },
   "outputs": [],
   "source": [
    "X_XOR = np.array([[0,0,1], [0,1,1], [1,0,1],[1,1,1]]) \n",
    "y_truth = np.array([[0],[1],[1],[0]])"
   ]
  },
  {
   "cell_type": "code",
   "execution_count": 4,
   "metadata": {
    "collapsed": true
   },
   "outputs": [],
   "source": [
    "def sigmoid(x):\n",
    "    return 1 / (1 + np.exp(-x))\n",
    "def sigmoid_der(output):\n",
    "    return output * (1 - output)"
   ]
  },
  {
   "cell_type": "code",
   "execution_count": 5,
   "metadata": {
    "collapsed": true
   },
   "outputs": [],
   "source": [
    "np.random.seed(1)\n",
    "syn_0 = 2*np.random.random((3,4)) - 1\n",
    "syn_1 = 2*np.random.random((4,1)) - 1"
   ]
  },
  {
   "cell_type": "code",
   "execution_count": 6,
   "metadata": {},
   "outputs": [
    {
     "data": {
      "text/plain": [
       "array([[-0.5910955 ],\n",
       "       [ 0.75623487],\n",
       "       [-0.94522481],\n",
       "       [ 0.34093502]])"
      ]
     },
     "execution_count": 6,
     "metadata": {},
     "output_type": "execute_result"
    }
   ],
   "source": [
    "syn_1"
   ]
  },
  {
   "cell_type": "code",
   "execution_count": 7,
   "metadata": {},
   "outputs": [
    {
     "name": "stdout",
     "output_type": "stream",
     "text": [
      "[[ 0.47070349]\n",
      " [ 0.48716227]\n",
      " [ 0.54111272]\n",
      " [ 0.54275466]]\n",
      "[[ 0.00702131]\n",
      " [ 0.99101058]\n",
      " [ 0.99215251]\n",
      " [ 0.01047789]]\n",
      "[[ 0.00473089]\n",
      " [ 0.99397288]\n",
      " [ 0.99465475]\n",
      " [ 0.00705394]]\n",
      "[[ 0.0037833 ]\n",
      " [ 0.9951994 ]\n",
      " [ 0.99570207]\n",
      " [ 0.00563454]]\n",
      "[[ 0.00323678]\n",
      " [ 0.99590652]\n",
      " [ 0.99631031]\n",
      " [ 0.0048149 ]]\n",
      "[[ 0.00287145]\n",
      " [ 0.99637884]\n",
      " [ 0.99671886]\n",
      " [ 0.00426659]]\n"
     ]
    }
   ],
   "source": [
    "for i in range(60000):\n",
    "    layer_1 = sigmoid(X_XOR.dot(syn_0))\n",
    "    layer_2 = sigmoid(layer_1.dot(syn_1))\n",
    "    error = layer_2 - y_truth\n",
    "    layer_2_delta = error * sigmoid_der(layer_2)\n",
    "    layer_1_error = layer_2_delta.dot(syn_1.T)\n",
    "    layer_1_delta = layer_1_error * sigmoid_der(layer_1)\n",
    "    syn_1 -= layer_1.T.dot(layer_2_delta)\n",
    "    syn_0 -= X_XOR.T.dot(layer_1_delta)\n",
    "    if i % 10000 == 1:\n",
    "        print(layer_2)"
   ]
  },
  {
   "cell_type": "code",
   "execution_count": 8,
   "metadata": {},
   "outputs": [
    {
     "data": {
      "text/plain": [
       "array([[  6.77210834e-06],\n",
       "       [ -1.07094941e-05],\n",
       "       [ -8.87110478e-06],\n",
       "       [  1.49004238e-05]])"
      ]
     },
     "execution_count": 8,
     "metadata": {},
     "output_type": "execute_result"
    }
   ],
   "source": [
    "layer_2_delta"
   ]
  },
  {
   "cell_type": "code",
   "execution_count": 9,
   "metadata": {},
   "outputs": [
    {
     "data": {
      "text/plain": [
       "array([[  1.98837541e-01,   1.02860175e-01,   6.83672492e-02,\n",
       "          2.88133951e-03],\n",
       "       [  1.38952969e-01,   3.92835720e-04,   1.63746592e-02,\n",
       "          9.27268048e-02],\n",
       "       [  3.75641061e-03,   9.38081354e-02,   2.18142168e-02,\n",
       "          1.35495307e-01],\n",
       "       [  4.54798845e-02,   2.42409810e-02,   3.07980841e-05,\n",
       "          1.02007295e-01]])"
      ]
     },
     "execution_count": 9,
     "metadata": {},
     "output_type": "execute_result"
    }
   ],
   "source": [
    "sigmoid_der(layer_1)"
   ]
  },
  {
   "cell_type": "code",
   "execution_count": null,
   "metadata": {
    "collapsed": true
   },
   "outputs": [],
   "source": []
  }
 ],
 "metadata": {
  "kernelspec": {
   "display_name": "Python 3",
   "language": "python",
   "name": "python3"
  },
  "language_info": {
   "codemirror_mode": {
    "name": "ipython",
    "version": 3
   },
   "file_extension": ".py",
   "mimetype": "text/x-python",
   "name": "python",
   "nbconvert_exporter": "python",
   "pygments_lexer": "ipython3",
   "version": "3.6.1"
  }
 },
 "nbformat": 4,
 "nbformat_minor": 2
}
