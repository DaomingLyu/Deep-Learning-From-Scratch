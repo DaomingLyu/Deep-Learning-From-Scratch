{
 "cells": [
  {
   "cell_type": "code",
   "execution_count": 139,
   "metadata": {
    "collapsed": true
   },
   "outputs": [],
   "source": [
    "import numpy as np"
   ]
  },
  {
   "cell_type": "code",
   "execution_count": 140,
   "metadata": {
    "collapsed": true
   },
   "outputs": [],
   "source": [
    "X_OR = np.array([[1,0,1],[0,1,1],[1,1,0],[0,0,0]])\n",
    "truth = np.array([[1],[1],[0],[0]])"
   ]
  },
  {
   "cell_type": "code",
   "execution_count": 141,
   "metadata": {
    "collapsed": true
   },
   "outputs": [],
   "source": [
    "def sigmoid(x):\n",
    "    return 1 / (1 + np.exp(-x))\n",
    "def sigmoid_der(output):\n",
    "    return output * (1 - output)"
   ]
  },
  {
   "cell_type": "code",
   "execution_count": 142,
   "metadata": {
    "collapsed": true
   },
   "outputs": [],
   "source": [
    "np.random.seed(1)\n",
    "syn_0 = 2*np.random.random((3,4)) - 1\n",
    "syn_1 = 2*np.random.random((4,1)) - 1"
   ]
  },
  {
   "cell_type": "code",
   "execution_count": null,
   "metadata": {
    "collapsed": true
   },
   "outputs": [],
   "source": []
  },
  {
   "cell_type": "code",
   "execution_count": 143,
   "metadata": {},
   "outputs": [],
   "source": [
    "for i in range(10000):\n",
    "    layer_1 = sigmoid(X_OR.dot(syn_0))\n",
    "    layer_2 = sigmoid(layer_1.dot(syn_1))\n",
    "    error = truth - layer_2\n",
    "    layer_2_delta = error * sigmoid_der(layer_2)\n",
    "    layer_1_error = layer_2_delta.dot(syn_1.T)\n",
    "    layer_1_delta = layer_1_error * sigmoid_der(layer_1)\n",
    "    syn_1 += layer_1.dot(layer_2_delta)\n",
    "    syn_0 += X_OR.T.dot(layer_1_delta)"
   ]
  },
  {
   "cell_type": "code",
   "execution_count": 144,
   "metadata": {},
   "outputs": [
    {
     "data": {
      "text/plain": [
       "array([[ 0.99585236],\n",
       "       [ 0.99506438],\n",
       "       [ 0.00216814],\n",
       "       [ 0.01282009]])"
      ]
     },
     "execution_count": 144,
     "metadata": {},
     "output_type": "execute_result"
    }
   ],
   "source": [
    "layer_2"
   ]
  },
  {
   "cell_type": "code",
   "execution_count": 108,
   "metadata": {},
   "outputs": [
    {
     "data": {
      "text/plain": [
       "array([[ 0.01200414,  0.00449777,  0.01853228,  0.01026706],\n",
       "       [ 0.01345509,  0.00517989,  0.01928016,  0.00874831],\n",
       "       [-0.0491521 , -0.0213796 , -0.05910859, -0.0373768 ],\n",
       "       [-0.03252722, -0.01577254, -0.05321167, -0.02755765]])"
      ]
     },
     "execution_count": 108,
     "metadata": {},
     "output_type": "execute_result"
    }
   ],
   "source": [
    "layer_1_delta"
   ]
  },
  {
   "cell_type": "code",
   "execution_count": null,
   "metadata": {
    "collapsed": true
   },
   "outputs": [],
   "source": []
  }
 ],
 "metadata": {
  "kernelspec": {
   "display_name": "Python 3",
   "language": "python",
   "name": "python3"
  },
  "language_info": {
   "codemirror_mode": {
    "name": "ipython",
    "version": 3
   },
   "file_extension": ".py",
   "mimetype": "text/x-python",
   "name": "python",
   "nbconvert_exporter": "python",
   "pygments_lexer": "ipython3",
   "version": "3.6.1"
  }
 },
 "nbformat": 4,
 "nbformat_minor": 2
}
