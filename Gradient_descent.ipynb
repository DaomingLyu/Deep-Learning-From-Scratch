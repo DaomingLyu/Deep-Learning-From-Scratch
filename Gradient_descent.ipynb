{
 "cells": [
  {
   "cell_type": "code",
   "execution_count": 32,
   "metadata": {},
   "outputs": [
    {
     "name": "stdout",
     "output_type": "stream",
     "text": [
      "0.5\n",
      "0.511875\n",
      "0.5241633413153\n",
      "0.5368738723924315\n",
      "0.5500139565765964\n",
      "0.5635891007995755\n",
      "0.5776025354752059\n",
      "0.5920547451593525\n",
      "0.6069429517083986\n",
      "0.6222605546198048\n",
      "0.6379965370663893\n",
      "0.6541348509073133\n",
      "0.6706537996630098\n",
      "0.6875254449508584\n",
      "0.7047150688998199\n",
      "0.7221807320875879\n",
      "0.7398729728132125\n",
      "0.7577346980096246\n",
      "0.7757013175681643\n",
      "0.7937011709295161\n",
      "0.8116562862093865\n",
      "0.8294834969490578\n",
      "0.8470959195861032\n",
      "0.8644047667410041\n",
      "0.881321439496782\n",
      "0.8977598093924315\n",
      "0.9136385722426767\n",
      "0.9288835358868889\n",
      "0.943429696757781\n",
      "0.9572229683912065\n",
      "0.9702214489531998\n",
      "0.9823961521131122\n",
      "0.9937311713023107\n",
      "1.004223295220484\n",
      "1.0138811358280073\n",
      "1.0227238635418048\n",
      "1.0307796645701868\n",
      "1.0380840414117025\n",
      "1.044678070931505\n",
      "1.0506067181771692\n",
      "1.05591728202966\n",
      "1.060658024670622\n",
      "1.06487701379143\n",
      "1.0686211866128092\n",
      "1.0719356292600397\n",
      "1.0748630541233568\n",
      "1.0774434511849047\n",
      "1.0797138862095075\n",
      "1.0817084183291976\n",
      "1.0834581110655934\n",
      "1.0849911135011239\n",
      "1.0863327915502436\n",
      "1.0875058926711327\n",
      "1.0885307306128311\n",
      "1.0894253797422326\n",
      "1.0902058710556728\n",
      "1.0908863841268206\n",
      "1.0914794309907059\n",
      "1.0919960293497617\n",
      "1.0924458635591308\n",
      "The local minimum occurs at 1.092837\n"
     ]
    }
   ],
   "source": [
    "# From calculation, it is expected that the local minimum occurs at x=9/4\n",
    "\n",
    "current_x = 0.5 # The algorithm starts at x=6\n",
    "learning_rate = 0.01 # step size multiplier\n",
    "epoch = 60 # the number of times to train the function\n",
    "\n",
    "def result_of_the_equation(x): \n",
    "    return 5 * x**4 - 6 * x**2\n",
    "\n",
    "for i in range(epoch):\n",
    "    previous_x = current_x\n",
    "    current_x += -learning_rate * result_of_the_equation(previous_x)\n",
    "    print(previous_x)\n",
    "\n",
    "print(\"The local minimum occurs at %f\" % current_x)"
   ]
  },
  {
   "cell_type": "code",
   "execution_count": null,
   "metadata": {
    "collapsed": true
   },
   "outputs": [],
   "source": []
  }
 ],
 "metadata": {
  "kernelspec": {
   "display_name": "Python 3",
   "language": "python",
   "name": "python3"
  },
  "language_info": {
   "codemirror_mode": {
    "name": "ipython",
    "version": 2
   },
   "file_extension": ".py",
   "mimetype": "text/x-python",
   "name": "python",
   "nbconvert_exporter": "python",
   "pygments_lexer": "ipython2",
   "version": "2.7.13"
  }
 },
 "nbformat": 4,
 "nbformat_minor": 2
}
